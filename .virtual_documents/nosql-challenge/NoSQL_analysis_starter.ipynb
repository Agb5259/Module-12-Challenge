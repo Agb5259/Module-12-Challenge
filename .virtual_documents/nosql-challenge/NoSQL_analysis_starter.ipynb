





from pymongo import MongoClient
import pandas as pd
from pprint import pprint


# Create an instance of MongoClient
mongo = MongoClient(port=27017)


# assign the uk_food database to a variable name
db = mongo['uk_food']


# review the collections in our database
print(db.list_collection_names())


# assign the collection to a variable
establishments = db['establishments']








pprint(db.establishments.find_one())


# Query to find establishments with a hygiene score of 20
query = {'scores.Hygiene': 20}
result = db.establishments.find(query)

# Use count_documents to display the number of documents in the result
count = db.establishments.count_documents(query)
print('Number of documents with a hygiene score of 20:', count)

# Display the first document in the results using pprint
pprint(result[0])


# Convert the result to a Pandas DataFrame
all_documents = list(result)
df = pd.DataFrame(all_documents)
# Display the number of rows in the DataFrame
print('Number of rows in the DataFrame', len(df))
# Display the first 10 rows of the DataFrame
df.head(10)





# Find the establishments with London as the Local Authority and has a RatingValue greater than or equal to 4.
query = {'$and': [{'RatingValue': {'$gte': 4}}, {'LocalAuthorityName': {'$regex': 'London', '$options': 'i'}}]}
result = db.establishments.find(query)
# Use count_documents to display the number of documents in the result
count = db.establishments.count_documents(query)
print('Number of documents count', count)
# Display the first document in the results using pprint
pprint(result[0])


# Convert the result to a Pandas DataFrame
all_documents = list(result)
df = pd.DataFrame(all_documents)
# Display the number of rows in the DataFrame
print('Number of rows the DataFrame:',len(df))
# Display the first 10 rows of the DataFrame
df.head(10)





# Search within 0.01 degree on either side of the latitude and longitude.
# Rating value must equal 5
# Sort by hygiene score

degree_search = 0.01
latitude = 51.49014200
longitude = 0.08384000

query = {
    '$and': [
        {'RatingValue': 5},
        {'geocode.latitude': {'$gte': latitude - degree_search}},
        {'geocode.latitude': {'$lte': latitude + degree_search}},
        {'geocode.longitude': {'$gte': longitude - degree_search}},
        {'geocode.longitude': {'$lte': longitude + degree_search}}
    ]
}

sort = [('scores.Hygiene', 1)]
limit = 5

# Print the results
results = db.establishments.find(query).sort(sort).limit(limit)

for result in results:
    pprint(result)


# Convert result to Pandas DataFrame
results = db.establishments.find(query).sort(sort).limit(limit)
all_documents = list(results)
df = pd.DataFrame(all_documents)
df





# Create a pipeline that:
# 1. Matches establishments with a hygiene score of 0
match_query = {'$match': {'scores.Hygiene': 0}}
# 2. Groups the matches by Local Authority
group_query = {'$group': {'_id': "$LocalAuthorityName",'count':{'$sum': 1}}}
# 3. Sorts the matches from highest to lowest
sort_values = {'$sort': { 'count': -1}}
# Print the number of documents in the result
pipeline = [match_query, group_query, sort_values]
results = list(establishments.aggregate(pipeline))
# Print the first 10 results
pprint(results[0:5])


# Convert the result to a Pandas DataFrame
df = pd.DataFrame(results)
# Display the number of rows in the DataFrame
print('Number of rows in the DataFrame:', len(df))
# Display the first 10 rows of the DataFrame
df.head()
